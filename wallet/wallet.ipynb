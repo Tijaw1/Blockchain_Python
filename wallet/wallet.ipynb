{
 "cells": [
  {
   "cell_type": "code",
   "execution_count": 1,
   "metadata": {},
   "outputs": [
    {
     "output_type": "execute_result",
     "data": {
      "text/plain": [
       "True"
      ]
     },
     "metadata": {},
     "execution_count": 1
    }
   ],
   "source": [
    "# import libraries\n",
    "import subprocess\n",
    "import json\n",
    "import os\n",
    "from constants import *\n",
    "from dotenv import load_dotenv\n",
    "from bipwallet import wallet\n",
    "from web3 import Web3\n",
    "from eth_account import Account\n",
    "from bit import PrivateKeyTestnet\n",
    "from bit.network import NetworkAPI\n",
    "from web3.middleware import geth_poa_middleware\n",
    "from web3.gas_strategies.time_based import medium_gas_price_strategy\n",
    "\n",
    "load_dotenv()"
   ]
  },
  {
   "cell_type": "code",
   "execution_count": 2,
   "metadata": {},
   "outputs": [
    {
     "output_type": "stream",
     "name": "stdout",
     "text": [
      "1\n<class 'str'>\n"
     ]
    }
   ],
   "source": [
    "# import mnemonic from env\n",
    "filepath=\"env.bat\"\n",
    "p = subprocess.Popen(filepath, shell=True, stdout = subprocess.PIPE)\n",
    "\n",
    "stdout, stderr = p.communicate()\n",
    "print (p.returncode) \n",
    "mnemonic = os.getenv('MNEMONIC')\n",
    "print(type(mnemonic))"
   ]
  },
  {
   "cell_type": "code",
   "execution_count": 40,
   "metadata": {},
   "outputs": [],
   "source": [
    "# connect to local ETH/ geth\n",
    "w3 = Web3(Web3.HTTPProvider('http://127.0.0.1:8545'))\n",
    "w3.middleware_onion.inject(geth_poa_middleware, layer=0)\n",
    "w3.eth.setGasPriceStrategy(medium_gas_price_strategy)"
   ]
  },
  {
   "cell_type": "code",
   "execution_count": 41,
   "metadata": {},
   "outputs": [],
   "source": [
    "# Define function to derive wallet\n",
    "def derive_wallets(mnemonic, coin, numderive):\n",
    "    \"\"\"Use the subprocess library to call the php file script from Python\"\"\"\n",
    "    command = f'php ./hd-wallet-derive/hd-wallet-derive.php -g --mnemonic=\"{mnemonic}\" --numderive=\"{numderive}\" --coin=\"{coin}\" --format=json' \n",
    "    \n",
    "    p = subprocess.Popen(command, stdout=subprocess.PIPE, shell=True)\n",
    "    (output, err) = p.communicate()\n",
    "   \n",
    "    keys = json.loads(output)\n",
    "    return  keys"
   ]
  },
  {
   "cell_type": "code",
   "execution_count": 44,
   "metadata": {},
   "outputs": [
    {
     "output_type": "execute_result",
     "data": {
      "text/plain": [
       "[{'path': \"m/44'/0'/0'/0/0\",\n",
       "  'address': '1Q2wBeVfY7hD6BuD7bV6UfZuaujgAtsBMq',\n",
       "  'xprv': 'xprvA3WfD7gMmqKouwuZMtEhjp3qdnH62BTAjK8gbAoVgsf2NUu5Lt1SFyVFbGFe9xKjC4E45DkCkJCKVWC5XLKs3jk7ZCjautzKwoyM6o4vfVm',\n",
       "  'xpub': 'xpub6GW1cdDFcCt78Rz2Tumi6wzaBp7aReB26Y4HPZD7FDC1FHEDtRKgomojSaDSP1KFNtotFEdB7Y1yS95V9MsoG4GZTabZT5BeVAwd3LQRBzx',\n",
       "  'privkey': 'KzMNunNBMyhZbmNZ5WsNhSrihUkpPABpWTx56wpjepw1DwKmmNQJ',\n",
       "  'pubkey': '03df884772f3f26c03dfa727318105787a76e5544fd2158919d3af768f364971e8',\n",
       "  'pubkeyhash': 'fca88a057f583ec872cfbb668a06b65ec5728063',\n",
       "  'index': 0},\n",
       " {'path': \"m/44'/0'/0'/0/1\",\n",
       "  'address': '1AtTVScBJrbpXDkoPxEzoJMaPmwgZtBKLw',\n",
       "  'xprv': 'xprvA3WfD7gMmqKovfHxjFdQfPn9RpY5v6EzFnV9W4nXkBtW2M8JspyLSVNSd7RKpCsqxEDBGsS2r8iB7j4VFdbDSyMbrzoVq37QmA2wYvQ8j4N',\n",
       "  'xpub': 'xpub6GW1cdDFcCt799NRqHAR2XisyrNaKYxqd1QkJTC9JXRUu9TTRNHazHgvUPDGxR1kRW2QQRYASGUcCiKKmEaJ4XyqXmuKUiw8uwhGe4gqmfs',\n",
       "  'privkey': 'L3mqfamr3PBXp9pGFqWtc7NRytZCm6ataS3nAaSeqG8URW8Tw2Dr',\n",
       "  'pubkey': '0327e10651816f8f93f24d5f81c7d0b803c5bd0238bd8bf75601d8efc764782cdd',\n",
       "  'pubkeyhash': '6c74758b0cab12265cdc60db3e354fa45dc32576',\n",
       "  'index': 1},\n",
       " {'path': \"m/44'/0'/0'/0/2\",\n",
       "  'address': '1LzK4JJ25d5im5sN1fdbTwnmYgPLJw7h2m',\n",
       "  'xprv': 'xprvA3WfD7gMmqKoyJ6GXemSEet4sNXwhCiCsnSMV6zdimcXHnFgNL95uyVaDHu7sMQSHsH1uxZ1V6NkLsWQfdgZVm5eacebGxVxhthqVy9Htpy',\n",
       "  'xpub': 'xpub6GW1cdDFcCt7BnAjdgJSbnpoRQNS6fS4F1MxHVQFH79WAaapusTLTmp44ay7GCmyDHLcHpbCic6GYk5BiFW8qSoWpbtSTkU4gN4hGcbnNEr',\n",
       "  'privkey': 'L5AsFDqmf3XPaL7fA562VjjCGXFfWadmhs3mjpRJrb6n7jtxxwhF',\n",
       "  'pubkey': '03f9ad3d55b868c176e63b4fae7504c45a240698c7a6ba147d0bce320976507d54',\n",
       "  'pubkeyhash': 'db412c3e4a6a5f1ebf98c36b09a9ac9487c5c753',\n",
       "  'index': 2}]"
      ]
     },
     "metadata": {},
     "execution_count": 44
    }
   ],
   "source": [
    "# Test the function derive_wallets\n",
    "derive_wallets(mnemonic, 'BTC', 3)"
   ]
  },
  {
   "cell_type": "code",
   "execution_count": 45,
   "metadata": {},
   "outputs": [],
   "source": [
    "#Setting dictionary of coins to be used in the wallet\n",
    "coins = {\"eth\", \"btc-test\", \"btc\"}\n",
    "numderive = 3"
   ]
  },
  {
   "cell_type": "code",
   "execution_count": 46,
   "metadata": {},
   "outputs": [],
   "source": [
    "# \n",
    "keys = {}\n",
    "for coin in coins:\n",
    "    keys[coin]= derive_wallets(mnemonic, coin, numderive=3)"
   ]
  },
  {
   "cell_type": "code",
   "execution_count": 47,
   "metadata": {},
   "outputs": [
    {
     "output_type": "stream",
     "name": "stdout",
     "text": [
      "\"0xcbc473a959e8ac649ad5722eaebd23c3382346db49a7860e8081ec219bddd6c1\"\n\"cNb35nP6U7AEC2tXnPozwjcAF6UzzqPDEsvorKrgJ7aSfgV61zkg\"\n"
     ]
    }
   ],
   "source": [
    "\n",
    "eth_PrivateKey = keys[\"eth\"][0]['privkey']\n",
    "btc_PrivateKey = keys['btc-test'][0]['privkey']\n",
    "\n",
    "print(json.dumps(eth_PrivateKey, indent=4, sort_keys=True))\n",
    "print(json.dumps(btc_PrivateKey, indent=4, sort_keys=True))"
   ]
  },
  {
   "cell_type": "code",
   "execution_count": 48,
   "metadata": {},
   "outputs": [
    {
     "output_type": "stream",
     "name": "stdout",
     "text": [
      "{\n    \"btc\": [\n        {\n            \"address\": \"1Q2wBeVfY7hD6BuD7bV6UfZuaujgAtsBMq\",\n            \"index\": 0,\n            \"path\": \"m/44'/0'/0'/0/0\",\n            \"privkey\": \"KzMNunNBMyhZbmNZ5WsNhSrihUkpPABpWTx56wpjepw1DwKmmNQJ\",\n            \"pubkey\": \"03df884772f3f26c03dfa727318105787a76e5544fd2158919d3af768f364971e8\",\n            \"pubkeyhash\": \"fca88a057f583ec872cfbb668a06b65ec5728063\",\n            \"xprv\": \"xprvA3WfD7gMmqKouwuZMtEhjp3qdnH62BTAjK8gbAoVgsf2NUu5Lt1SFyVFbGFe9xKjC4E45DkCkJCKVWC5XLKs3jk7ZCjautzKwoyM6o4vfVm\",\n            \"xpub\": \"xpub6GW1cdDFcCt78Rz2Tumi6wzaBp7aReB26Y4HPZD7FDC1FHEDtRKgomojSaDSP1KFNtotFEdB7Y1yS95V9MsoG4GZTabZT5BeVAwd3LQRBzx\"\n        },\n        {\n            \"address\": \"1AtTVScBJrbpXDkoPxEzoJMaPmwgZtBKLw\",\n            \"index\": 1,\n            \"path\": \"m/44'/0'/0'/0/1\",\n            \"privkey\": \"L3mqfamr3PBXp9pGFqWtc7NRytZCm6ataS3nAaSeqG8URW8Tw2Dr\",\n            \"pubkey\": \"0327e10651816f8f93f24d5f81c7d0b803c5bd0238bd8bf75601d8efc764782cdd\",\n            \"pubkeyhash\": \"6c74758b0cab12265cdc60db3e354fa45dc32576\",\n            \"xprv\": \"xprvA3WfD7gMmqKovfHxjFdQfPn9RpY5v6EzFnV9W4nXkBtW2M8JspyLSVNSd7RKpCsqxEDBGsS2r8iB7j4VFdbDSyMbrzoVq37QmA2wYvQ8j4N\",\n            \"xpub\": \"xpub6GW1cdDFcCt799NRqHAR2XisyrNaKYxqd1QkJTC9JXRUu9TTRNHazHgvUPDGxR1kRW2QQRYASGUcCiKKmEaJ4XyqXmuKUiw8uwhGe4gqmfs\"\n        },\n        {\n            \"address\": \"1LzK4JJ25d5im5sN1fdbTwnmYgPLJw7h2m\",\n            \"index\": 2,\n            \"path\": \"m/44'/0'/0'/0/2\",\n            \"privkey\": \"L5AsFDqmf3XPaL7fA562VjjCGXFfWadmhs3mjpRJrb6n7jtxxwhF\",\n            \"pubkey\": \"03f9ad3d55b868c176e63b4fae7504c45a240698c7a6ba147d0bce320976507d54\",\n            \"pubkeyhash\": \"db412c3e4a6a5f1ebf98c36b09a9ac9487c5c753\",\n            \"xprv\": \"xprvA3WfD7gMmqKoyJ6GXemSEet4sNXwhCiCsnSMV6zdimcXHnFgNL95uyVaDHu7sMQSHsH1uxZ1V6NkLsWQfdgZVm5eacebGxVxhthqVy9Htpy\",\n            \"xpub\": \"xpub6GW1cdDFcCt7BnAjdgJSbnpoRQNS6fS4F1MxHVQFH79WAaapusTLTmp44ay7GCmyDHLcHpbCic6GYk5BiFW8qSoWpbtSTkU4gN4hGcbnNEr\"\n        }\n    ],\n    \"btc-test\": [\n        {\n            \"address\": \"mn6bAZfShJhxA9zCQ2enMgjrVtpMx4bjU9\",\n            \"index\": 0,\n            \"path\": \"m/44'/1'/0'/0/0\",\n            \"privkey\": \"cNb35nP6U7AEC2tXnPozwjcAF6UzzqPDEsvorKrgJ7aSfgV61zkg\",\n            \"pubkey\": \"02268f36d18ab3bcbd0823da5ec7083eed0f8e36c62c90a6a0b2c43fbcad6080fc\",\n            \"pubkeyhash\": \"482d427ad2afb37ce1636c446e0e0a2892c4ed99\",\n            \"xprv\": \"tprv8jahFsHG4BFnySHgMRnoowVJPT69XqiNQtiLhRHJWkeJBwD5c4G7SKzfXe1v9Rr5ZtKjwwB1aTZtjK6WtRPSUMn4VNK11TYz1GQZGpsY5F5\",\n            \"xpub\": \"tpubDGGjQHKWCYwTruKUF5TQDM9QxUc5hAuGzCK7ywKbw2Sh2RTrET5hcpcXhm2aVneYACJ117MiBKK8DtAWr1QcJWC5SGu6cdaB1YxJfpiNbgG\"\n        },\n        {\n            \"address\": \"mzSUd9veqFtA3PsJCY8tBT4a6Pics9HanS\",\n            \"index\": 1,\n            \"path\": \"m/44'/1'/0'/0/1\",\n            \"privkey\": \"cTfTJ4tH89H24dJXWVyMP5wsHfjCyWfugf8obeVrb4oA1KpcHp8Y\",\n            \"pubkey\": \"02cc59b294671a6d9b7b4bb0c8da3484d2156826aa8cd30ea24e2f5e0b13ff11a9\",\n            \"pubkeyhash\": \"cf91a0b2a405c93075f998ac2fe5073ab19f5262\",\n            \"xprv\": \"tprv8jahFsHG4BFo1bXk6FYdAPzgtuJPGRKMKQA5RYSoLxwz388BLCvtKn4e323Cy6qYCEb6NcHqLb4Pes5bQD21MqRkuTMQLZFjmbsyd1mR3Ug\",\n            \"xpub\": \"tpubDGGjQHKWCYwTu4ZXyuDDZoeoTvpKRkWFthkri4V6mEkNscNwxbkUWGgWD9ABPzLNyBktEKQtsVrYAMA9LRWd8xsgBZY19j55fN8wxJXEr6H\"\n        },\n        {\n            \"address\": \"msrPNfXQqAhWiYxJXe1GFeKLDNPTmKVQEh\",\n            \"index\": 2,\n            \"path\": \"m/44'/1'/0'/0/2\",\n            \"privkey\": \"cS2F4kJyHzf7jKmw3DqNVwny52khxNAjWkWaxQ5Nb65PA2iNWvgb\",\n            \"pubkey\": \"034963f5c505d06a5366ce165247655924c34c27ceaad33ee5631cf86d52d3f785\",\n            \"pubkeyhash\": \"874e5915fcc05c8f732d2393d48ac0b3e76fe00b\",\n            \"xprv\": \"tprv8jahFsHG4BFo6Ae1rzswLFqAoSEHW4cJzMQKSrbkpgsT5BqCu5fZcvn1X7ingCnTa9Wd1XZSRoFMctnykUVnMebfgSaRRWjuGeqFHTCaWUB\",\n            \"xpub\": \"tpubDGGjQHKWCYwTydfokeYXjfVHNTkDfPoDZf16jNe4Exfqug5yXUV9oRPshGAQDYxGbzUnuYVZ3PCUHGnVaBXJAWyXLF9WnZMG9jzvehP45vy\"\n        }\n    ],\n    \"eth\": [\n        {\n            \"address\": \"0x3Ba59910e2c68c60D66fFA585a8860418bB7495F\",\n            \"index\": 0,\n            \"path\": \"m/44'/60'/0'/0/0\",\n            \"privkey\": \"0xcbc473a959e8ac649ad5722eaebd23c3382346db49a7860e8081ec219bddd6c1\",\n            \"pubkey\": \"03979deee52e0fc57d146144310bbec5a4c89790ba5ac72992b90da03c40c69f19\",\n            \"pubkeyhash\": \"fc9088374ede512192af018b3f95307198c9917b\",\n            \"xprv\": \"xprvA2tNeUgEqfW8haeywFppFNxvkm7XDd54H2zP87pxizeU2XkrV6suoDxQpXtyQyXhxGJkYYDVH4QdnJkRnAaM36ggQmcguQw45zhZfoSZpSv\",\n            \"xpub\": \"xpub6Fsj3zD8g34Rv4jT3HMpcWufJnx1d5nueFuyvWEaHLBSuL612eCAM2GtfpUWvFu2un8XYWvfdNxkU8DihLBgSn2zxKcDiUHSumLHXLh5jWS\"\n        },\n        {\n            \"address\": \"0xC046D99B8554d83EAd5544D5c62A46f9ce92fDc1\",\n            \"index\": 1,\n            \"path\": \"m/44'/60'/0'/0/1\",\n            \"privkey\": \"0xbf5f98540d953b24e03b992e52b175efddca9575145cbef5bf82a71903ee329f\",\n            \"pubkey\": \"029a4a5f5b102bd591d460a192c7ddd358695fd4b74dc5647a14426514281297e5\",\n            \"pubkeyhash\": \"98fcb793466b81d0791182af0d896c207fa3ae42\",\n            \"xprv\": \"xprvA2tNeUgEqfW8k8iKnLQh4JU2e4BY6vRc7gxF9CTUdK96WY1QDe1GYRGAf3eEGq68X3FUMA27pETRsBPGf3qsJraPZupF3xT852XqBcohZyY\",\n            \"xpub\": \"xpub6Fsj3zD8g34RxcnntMwhRSQmC622WP9TUusqwas6Beg5PLLYmBKX6DaeWJPfUxaMAK6g6rYxBk6s7dpkPLDP7SPuBga6EJgRxZXnjHkGFCp\"\n        },\n        {\n            \"address\": \"0xa48ad4Be6A853cE1B4c0Da5d38b0F87b58cc57A9\",\n            \"index\": 2,\n            \"path\": \"m/44'/60'/0'/0/2\",\n            \"privkey\": \"0x4e070327b40f1d980c4882638e9584e7062a734fd37cfccd796cd27a3ba46ee4\",\n            \"pubkey\": \"03e7b88b9daa1ac6429d886ff433ea37b7ef509a86a138903fbd2957cdfd03e182\",\n            \"pubkeyhash\": \"04be95d0324fcf4760795d739351b5df7aab234e\",\n            \"xprv\": \"xprvA2tNeUgEqfW8o258UCU7jnhv3AvgvqZ3NfJTydmzwRR17YxSBm2GLhEVkVyGyttAcAQwsEhyokXu6sCNW6qnYC7xmP6nPcu6u9DiuCn2u3H\",\n            \"xpub\": \"xpub6Fsj3zD8g34S1W9baE186veebCmBLJGtjtE4n2BcVkwyzMHajJLWtVYybp7UVcQUdreLkW7PSQzfSCbXqGbe1gNPPzPd6BcEbWgqG4ttzGy\"\n        }\n    ]\n}\n"
     ]
    }
   ],
   "source": [
    "print(json.dumps(keys, indent=4, sort_keys=True))"
   ]
  },
  {
   "cell_type": "code",
   "execution_count": 49,
   "metadata": {},
   "outputs": [],
   "source": [
    "# create a function that convert the privkey string in a child key to an account object.\n",
    "def priv_key_to_account(coin,priv_key):\n",
    "    print(coin)\n",
    "    print(priv_key)\n",
    "    if coin == ETH:\n",
    "        return Account.privateKeyToAccount(priv_key)\n",
    "    elif coin == BTCTEST:\n",
    "        return PrivateKeyTestnet(priv_key)\n",
    "\n"
   ]
  },
  {
   "cell_type": "code",
   "execution_count": 83,
   "metadata": {},
   "outputs": [],
   "source": [
    "def create_tx(coin,account, recipient, amount):\n",
    "    if coin == ETH: \n",
    "        gasEstimate = w3.eth.estimateGas(\n",
    "            {\"from\":eth_acc.address, \"to\":recipient, \"value\": amount}\n",
    "        )\n",
    "        return { \n",
    "            'chainId': 15151,\n",
    "            \"from\": eth_acc.address,\n",
    "            \"to\": recipient,\n",
    "            \"value\": amount,\n",
    "            \"gasPrice\": w3.eth.gasPrice,\n",
    "            \"gas\": gasEstimate,\n",
    "            \"nonce\": w3.eth.getTransactionCount(eth_acc.address)\n",
    "        }\n",
    "    \n",
    "    elif coin == BTCTEST:\n",
    "        return PrivateKeyTestnet.prepare_transaction(account.address, [(recipient, amount, BTC)])"
   ]
  },
  {
   "cell_type": "code",
   "execution_count": 84,
   "metadata": {},
   "outputs": [
    {
     "output_type": "stream",
     "name": "stdout",
     "text": [
      "eth\n0xcbc473a959e8ac649ad5722eaebd23c3382346db49a7860e8081ec219bddd6c1\n"
     ]
    }
   ],
   "source": [
    "# create a function to hold Ethereum \n",
    "eth_acc = priv_key_to_account(ETH, derive_wallets(mnemonic, ETH,5)[0]['privkey'])\n"
   ]
  },
  {
   "cell_type": "code",
   "execution_count": 97,
   "metadata": {},
   "outputs": [],
   "source": [
    "# create a function to send txn\n",
    "def send_txn(coin,account,recipient, amount):\n",
    "    txn = create_tx(coin, account, recipient, amount)\n",
    "    if coin == ETH:\n",
    "        signed_txn = eth_acc.sign_transaction(txn)\n",
    "        result = w3.eth.sendRawTransaction(signed_txn.rawTransaction)\n",
    "        print(result.hex())\n",
    "        return result.hex()\n",
    "    elif coin == BTCTEST:\n",
    "        tx_btctest = create_tx(coin, account, recipient, amount)\n",
    "        signed_txn = account.sign_transaction(txn)\n",
    "        print(signed_txn)\n",
    "        return NetworkAPI.broadcast_tx_testnet(signed_txn)\n",
    "    elif coin == BTC:\n",
    "        tx_btc = create_tx(coin, account, recipient, amount)\n",
    "        signed_txn = account.sign_transaction(txn)\n",
    "        print(signed_txn)\n",
    "        return NetworkAPI.broadcast_tx(signed_txn)"
   ]
  },
  {
   "cell_type": "markdown",
   "metadata": {},
   "source": [
    "## BTC-TEST Transactions"
   ]
  },
  {
   "cell_type": "code",
   "execution_count": 53,
   "metadata": {},
   "outputs": [
    {
     "output_type": "stream",
     "name": "stdout",
     "text": [
      "btc-test\ncNb35nP6U7AEC2tXnPozwjcAF6UzzqPDEsvorKrgJ7aSfgV61zkg\n"
     ]
    }
   ],
   "source": [
    "btc_acc = priv_key_to_account(BTCTEST,btc_PrivateKey)"
   ]
  },
  {
   "cell_type": "code",
   "execution_count": 61,
   "metadata": {},
   "outputs": [
    {
     "output_type": "execute_result",
     "data": {
      "text/plain": [
       "'{\"unspents\":[{\"amount\":25057,\"confirmations\":0,\"script\":\"76a914482d427ad2afb37ce1636c446e0e0a2892c4ed9988ac\",\"txid\":\"06c05b98331da4c242c6767b92e84a9eedfeada0904bff6a32ad16335399ee27\",\"txindex\":1,\"type\":\"p2pkh\",\"vsize\":148,\"segwit\":false,\"sequence\":4294967295},{\"amount\":89000,\"confirmations\":0,\"script\":\"76a914482d427ad2afb37ce1636c446e0e0a2892c4ed9988ac\",\"txid\":\"2eede071f6e4276e3da24194efbd516b9d49c58a3081eab7c447ef49bf051aaa\",\"txindex\":0,\"type\":\"p2pkh\",\"vsize\":148,\"segwit\":false,\"sequence\":4294967295}],\"outputs\":[[\"mtK73sNPY9CKuzVvpv4W1969AD1UmGGfsX\",10000],[\"mn6bAZfShJhxA9zCQ2enMgjrVtpMx4bjU9\",65909]]}'"
      ]
     },
     "metadata": {},
     "execution_count": 61
    }
   ],
   "source": [
    "# create BTC transaction\n",
    "create_tx(BTCTEST,btc_acc,\"mtK73sNPY9CKuzVvpv4W1969AD1UmGGfsX\", 0.0001)"
   ]
  },
  {
   "cell_type": "code",
   "execution_count": 62,
   "metadata": {},
   "outputs": [
    {
     "output_type": "stream",
     "name": "stdout",
     "text": [
      "010000000227ee99533316ad326aff4b90a0adfeed9e4ae8927b76c642c2a41d33985bc006010000006a47304402200828a264fef9ca7a991a10960c34f90b40e3e04f212cbd9ff25cc57f01c5a9cb02205b265be564078ece87f424ca63127aafbe87e08b1aacf53494ad522f5839913f012102268f36d18ab3bcbd0823da5ec7083eed0f8e36c62c90a6a0b2c43fbcad6080fcffffffffaa1a05bf49ef47c4b7ea81308ac5499d6b51bdef9441a23d6e27e4f671e0ed2e000000006b48304502210086187e373ebb7a8d15431b7662c968ba82c2b0dfaaf450242bf80170988583b602206d2db08c5a809230e9161089a434668b0a65cb84a3c182e1b9558562a282369d012102268f36d18ab3bcbd0823da5ec7083eed0f8e36c62c90a6a0b2c43fbcad6080fcffffffff0210270000000000001976a9148c5bf3cb05705fe9512d23b229c4253e82ba817988ac75010100000000001976a914482d427ad2afb37ce1636c446e0e0a2892c4ed9988ac00000000\n"
     ]
    }
   ],
   "source": [
    "# Send BTC transaction\n",
    "send_txn(BTCTEST,btc_acc,\"mtK73sNPY9CKuzVvpv4W1969AD1UmGGfsX\", 0.0001)"
   ]
  },
  {
   "cell_type": "markdown",
   "metadata": {},
   "source": [
    "## ETH Transactions"
   ]
  },
  {
   "cell_type": "code",
   "execution_count": 86,
   "metadata": {},
   "outputs": [],
   "source": [
    "#connecting to HTTP with address pk\n",
    "w3 = Web3(Web3.HTTPProvider(\"http://127.0.0.1:8545\"))"
   ]
  },
  {
   "cell_type": "code",
   "execution_count": 87,
   "metadata": {},
   "outputs": [
    {
     "output_type": "execute_result",
     "data": {
      "text/plain": [
       "True"
      ]
     },
     "metadata": {},
     "execution_count": 87
    }
   ],
   "source": [
    "# check connection to blockchain. \n",
    "w3.isConnected()"
   ]
  },
  {
   "cell_type": "markdown",
   "metadata": {},
   "source": [
    "## Check the Balance of the account with local mining blockchain"
   ]
  },
  {
   "cell_type": "code",
   "execution_count": 88,
   "metadata": {},
   "outputs": [
    {
     "output_type": "execute_result",
     "data": {
      "text/plain": [
       "904625697166532776746648320380374280103671754200316906558261115061821325312"
      ]
     },
     "metadata": {},
     "execution_count": 88
    }
   ],
   "source": [
    "w3.eth.getBalance(\"0x22326468F10EB122cF8b39BE1d15c30314DEdf2F\")"
   ]
  },
  {
   "cell_type": "code",
   "execution_count": 93,
   "metadata": {},
   "outputs": [
    {
     "output_type": "execute_result",
     "data": {
      "text/plain": [
       "{'chainId': 15151,\n",
       " 'from': '0x3Ba59910e2c68c60D66fFA585a8860418bB7495F',\n",
       " 'to': '0xC046D99B8554d83EAd5544D5c62A46f9ce92fDc1',\n",
       " 'value': 1000000000000,\n",
       " 'gasPrice': 1000000000,\n",
       " 'gas': 21000,\n",
       " 'nonce': 1}"
      ]
     },
     "metadata": {},
     "execution_count": 93
    }
   ],
   "source": [
    "create_tx(ETH,eth_acc,\"0xC046D99B8554d83EAd5544D5c62A46f9ce92fDc1\", 1000000000000)"
   ]
  },
  {
   "cell_type": "code",
   "execution_count": 94,
   "metadata": {},
   "outputs": [
    {
     "output_type": "stream",
     "name": "stdout",
     "text": [
      "0xb5ab24d10aaa4de3e7e6726495dd6f9d26c9010359fc7f03db4282ef75f6301c\n"
     ]
    },
    {
     "output_type": "execute_result",
     "data": {
      "text/plain": [
       "'0xb5ab24d10aaa4de3e7e6726495dd6f9d26c9010359fc7f03db4282ef75f6301c'"
      ]
     },
     "metadata": {},
     "execution_count": 94
    }
   ],
   "source": [
    "send_txn(ETH, eth_acc,\"0xa48ad4Be6A853cE1B4c0Da5d38b0F87b58cc57A9\", 1000000000000)"
   ]
  },
  {
   "cell_type": "markdown",
   "metadata": {},
   "source": [
    "## Confirmation of Transaction"
   ]
  },
  {
   "cell_type": "code",
   "execution_count": 98,
   "metadata": {},
   "outputs": [
    {
     "output_type": "execute_result",
     "data": {
      "text/plain": [
       "1000000010000"
      ]
     },
     "metadata": {},
     "execution_count": 98
    }
   ],
   "source": [
    "w3.eth.getBalance(\"0xa48ad4Be6A853cE1B4c0Da5d38b0F87b58cc57A9\")"
   ]
  },
  {
   "cell_type": "code",
   "execution_count": null,
   "metadata": {},
   "outputs": [],
   "source": []
  }
 ],
 "metadata": {
  "kernelspec": {
   "name": "python385jvsc74a57bd09268c8825329d34f76b60b8f22f790593264343ff899ca482fbe46b5d6fc3bfb",
   "display_name": "Python 3.8.5 64-bit ('base': conda)"
  },
  "language_info": {
   "codemirror_mode": {
    "name": "ipython",
    "version": 3
   },
   "file_extension": ".py",
   "mimetype": "text/x-python",
   "name": "python",
   "nbconvert_exporter": "python",
   "pygments_lexer": "ipython3",
   "version": "3.8.5"
  }
 },
 "nbformat": 4,
 "nbformat_minor": 4
}